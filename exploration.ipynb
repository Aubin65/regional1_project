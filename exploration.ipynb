{
 "cells": [
  {
   "cell_type": "code",
   "execution_count": 3,
   "metadata": {},
   "outputs": [],
   "source": [
    "from selenium import webdriver\n",
    "from selenium.webdriver.common.by import By\n",
    "from selenium.webdriver.common.keys import Keys\n",
    "from selenium.webdriver.chrome.options import Options\n",
    "from selenium.webdriver.support.ui import WebDriverWait\n",
    "from selenium.webdriver.support import expected_conditions as EC\n",
    "from bs4 import BeautifulSoup\n",
    "import time\n",
    "from datetime import datetime\n",
    "import os\n",
    "\n",
    "def scrap_ffr(url : str = \"https://competitions.ffr.fr/clubs/r-c-ustaritz-jatxou/competitions/nouvelle-aquitaine-regionale-1-championnat-territorial/resultats.html\") -> str :\n",
    "    \"\"\"\n",
    "    Argument : \n",
    "        - url : url of the webpage to be scrapped\n",
    "    Returns :\n",
    "        - visible_text : string of the webpage text\n",
    "    \"\"\"\n",
    "    try:\n",
    "        # Set up a headless browser using Selenium\n",
    "        options = Options()\n",
    "        options.headless = True\n",
    "        driver = webdriver.Chrome(options=options)\n",
    "\n",
    "        # Make a GET request to the URL\n",
    "        driver.get(url)\n",
    "\n",
    "        # Wait for some time to allow dynamic content to load\n",
    "        driver.implicitly_wait(10)\n",
    "\n",
    "        # Get the page source after dynamic content has loaded\n",
    "        page_source = driver.page_source\n",
    "\n",
    "        # Parse the HTML content\n",
    "        soup = BeautifulSoup(page_source, 'html.parser')\n",
    "\n",
    "        # Extract only the visible text content\n",
    "        visible_text = soup.get_text(separator='\\n', strip=True)\n",
    "\n",
    "        # Close the browser\n",
    "        driver.quit()\n",
    "\n",
    "        return visible_text\n",
    "\n",
    "    except Exception as e:\n",
    "        print(f\"Error: {e}\")\n",
    "        return None"
   ]
  },
  {
   "cell_type": "code",
   "execution_count": 4,
   "metadata": {},
   "outputs": [
    {
     "name": "stdout",
     "output_type": "stream",
     "text": [
      "Error: Message: Service /home/amorlas/.cache/selenium/chromedriver/linux64/130.0.6723.58/chromedriver unexpectedly exited. Status code was: 127\n",
      "\n"
     ]
    }
   ],
   "source": [
    "scrap_ffr()"
   ]
  },
  {
   "cell_type": "code",
   "execution_count": null,
   "metadata": {},
   "outputs": [],
   "source": []
  }
 ],
 "metadata": {
  "kernelspec": {
   "display_name": "env_ffr",
   "language": "python",
   "name": "python3"
  },
  "language_info": {
   "codemirror_mode": {
    "name": "ipython",
    "version": 3
   },
   "file_extension": ".py",
   "mimetype": "text/x-python",
   "name": "python",
   "nbconvert_exporter": "python",
   "pygments_lexer": "ipython3",
   "version": "3.11.2"
  }
 },
 "nbformat": 4,
 "nbformat_minor": 2
}
