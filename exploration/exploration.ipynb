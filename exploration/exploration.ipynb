{
 "cells": [
  {
   "cell_type": "markdown",
   "metadata": {},
   "source": [
    "# Tests de webscrapping du site de la FFR"
   ]
  },
  {
   "cell_type": "code",
   "execution_count": 6,
   "metadata": {},
   "outputs": [],
   "source": [
    "url_resultats = \"https://competitions.ffr.fr/clubs/r-c-ustaritz-jatxou/competitions/nouvelle-aquitaine-regionale-1-championnat-territorial/resultats.html\"\n",
    "\n",
    "url_match = \"https://competitions.ffr.fr/competitions/nouvelle-aquitaine-regionale-1-championnat-territorial/match-1428342.html\""
   ]
  },
  {
   "cell_type": "code",
   "execution_count": 7,
   "metadata": {},
   "outputs": [],
   "source": [
    "import requests"
   ]
  },
  {
   "cell_type": "code",
   "execution_count": 13,
   "metadata": {},
   "outputs": [],
   "source": [
    "import requests\n",
    "\n",
    "headers = {'User-Agent': 'Mozilla/5.0 (Windows NT 10.0; Win64; x64) AppleWebKit/537.36 (KHTML, like Gecko) Chrome/115.0.0.0 Safari/537.36'}\n",
    "response = requests.get(url_match, headers=headers)"
   ]
  },
  {
   "cell_type": "code",
   "execution_count": 14,
   "metadata": {},
   "outputs": [
    {
     "data": {
      "text/plain": [
       "b'<!doctype html><html lang=\"fr\"><head><meta charset=\"utf-8\"><meta name=\"viewport\" content=\"width=device-width,initial-scale=1,maximum-scale=1\"><link rel=\"manifest\" href=\"/manifest.json\"><meta name=\"mobile-web-app-capable\" content=\"yes\"><meta name=\"google-site-verification\" content=\"google99bf106201c43bf1.html\"><title>Comp&#xE9;titions &amp; R&#xE9;sultats - F&#xE9;d&#xE9;ration Fran&#xE7;aise de Rugby</title><meta name=\"description\" content=\"Retrouvez les derniers r&#xE9;sultats sportifs des clubs de rugby sur le site Comp&#xE9;titions de la FFR. Derni&#xE8;res rencontres, calendrier, classements, abonnez vous pour recevoir les derni&#xE8;res actualit&#xE9;s du rugby\"><style>body{margin:0}.loader{display:block;text-align:center;margin:auto;font-size:2rem;color:#fff;font-family:Helvetica;height:100vh;width:100vw;background:#f0f2f5;position:absolute;top:0;left:0;bottom:0;right:0;opacity:1;transition:all 1s ease-in}body.loading-finished .loader{opacity:0}.loader img{position:absolute;top:0;bottom:0;right:0;left:0;margin:auto}</style><meta name=\"twitter:site\" content=\"@FFRugby \"><meta name=\"twitter:creator\" content=\"@FFRugby\"><meta name=\"twitter:image\" content=\"https://competitions.ffr.fr/static_assets/Facebook.png\"><meta name=\"twitter:card\" content=\"summary_large_image\"><meta name=\"twitter:image\" content=\"https://competitions.ffr.fr/static_assets/Twitter.png\"><meta property=\"fb:app_id\" content=\"753881258133291\"><meta property=\"fb:pages\" content=\"201838479917171\"><meta property=\"og:locale\" content=\"fr_FR\"><meta property=\"og:site_name\" content=\"Comp&#xE9;titions - FFR\"><meta property=\"og:image\" content=\"https://competitions.ffr.fr/static_assets/Facebook.png\"><meta property=\"og:image:width\" content=\"1200\"><meta property=\"og:image:height\" content=\"630\"><meta property=\"og:type\" content=\"website\"><meta property=\"og:site_name\" content=\"Comp&#xE9;titions - FFR\"><meta property=\"og:locale\" content=\"fr_FR\"></head><body><noscript>If you\\'re seeing this message, that means <strong>JavaScript has been disabled on your browser</strong>, please <strong>enable JS</strong> to make this app work.</noscript><div id=\"app\"></div><div class=\"loader\" id=\"loader_initial\"><img src=\"https://competitions.ffr.fr/static_assets/Loader_FFR.gif\"></div><script src=\"https://cdn.ravenjs.com/3.26.2/raven.min.js\" crossorigin=\"anonymous\"></script><script type=\"text/javascript\" src=\"/main.1470e06acc38e3eaf509.js\"></script></body></html>'"
      ]
     },
     "execution_count": 14,
     "metadata": {},
     "output_type": "execute_result"
    }
   ],
   "source": [
    "response.content"
   ]
  },
  {
   "cell_type": "code",
   "execution_count": 22,
   "metadata": {},
   "outputs": [
    {
     "data": {
      "text/plain": [
       "NoneType"
      ]
     },
     "execution_count": 22,
     "metadata": {},
     "output_type": "execute_result"
    }
   ],
   "source": [
    "from bs4 import BeautifulSoup\n",
    "\n",
    "soup = BeautifulSoup(response.text, 'html.parser')\n",
    "\n",
    "player_name = soup.find(\"p\", class_=\"player-name\")\n",
    "\n",
    "type(player_name)"
   ]
  },
  {
   "cell_type": "code",
   "execution_count": 24,
   "metadata": {},
   "outputs": [],
   "source": [
    "import requests\n",
    "from bs4 import BeautifulSoup\n",
    "\n",
    "# Effectuer une requête GET à la page\n",
    "response = requests.get(url_match)\n",
    "\n",
    "# Vérifiez que la requête a réussi\n",
    "if response.status_code == 200:\n",
    "    # Créez un objet BeautifulSoup\n",
    "    soup = BeautifulSoup(response.text, 'html.parser')\n",
    "\n",
    "    # Exemple d'extraction de données\n",
    "    # Trouver le score du match\n",
    "    score = soup.find(class_='score')\n",
    "    if score:\n",
    "        print(\"Score:\", score.text.strip())\n",
    "\n",
    "    # Trouver les noms des équipes\n",
    "    teams = soup.find_all('div', class_='nameAndStatus')\n",
    "    for team in teams:\n",
    "        name = team.find('a')\n",
    "        position = team.find('span', class_='poule-data')\n",
    "        if name and position:\n",
    "            print(f\"Équipe: {name.text.strip()}, Position: {position.text.strip()}\")\n",
    "\n",
    "    # Trouver les essais et pénalités\n",
    "    actions = soup.find_all('div', class_='action-row')\n",
    "    for action in actions:\n",
    "        action_name = action.find('p', class_='action-name')\n",
    "        player_name = action.find('p', class_='player-name')\n",
    "        minute = action.find('span', class_='minutes')\n",
    "\n",
    "        if action_name and player_name and minute:\n",
    "            print(f\"{action_name.text.strip()} par {player_name.text.strip()} à {minute.text.strip()}\")\n",
    "else:\n",
    "    print(\"Erreur lors de la récupération de la page\", response.status_code)\n"
   ]
  },
  {
   "cell_type": "code",
   "execution_count": 26,
   "metadata": {},
   "outputs": [
    {
     "name": "stdout",
     "output_type": "stream",
     "text": [
      "Requête réussie!\n",
      "Contenu de la page : <!DOCTYPE html>\n",
      "<html lang=\"fr\">\n",
      " <head>\n",
      "  <meta charset=\"utf-8\"/>\n",
      "  <meta content=\"width=device-width,initial-scale=1,maximum-scale=1\" name=\"viewport\"/>\n",
      "  <link href=\"/manifest.json\" rel=\"manifest\"/>\n",
      "  <meta content=\"yes\" name=\"mobile-web-app-capable\"/>\n",
      "  <meta content=\"google99bf106201c43bf1.html\" name=\"google-site-verification\"/>\n",
      "  <title>\n",
      "   Compétitions &amp; Résultats - Fédération Française de Rugby\n",
      "  </title>\n",
      "  <meta content=\"Retrouvez les derniers résultats sportifs des clubs de rugby sur le site Compétitions de la FFR. Dernières rencontres, calendrier, classements, abonnez vous pour recevoir les dernières actualités du rugby\" name=\"description\"/>\n",
      "  <style>\n",
      "   body{margin:0}.loader{display:block;text-align:center;margin:auto;font-size:2rem;color:#fff;font-family:Helvetica;height:100vh;width:100vw;background:#f0f2f5;position:absolute;top:0;left:0;bottom:0;right:0;opacity:1;transition:all 1s ease-in}body.loading-finished .loader{opacity:0}.loader img{position:absolute;top:0;bottom:0;right:0;left:0;margin:auto}\n",
      "  </style>\n",
      "  <meta content=\"@FFRugby \" name=\"twitter:site\"/>\n",
      "  <meta content=\"@FFRugby\" name=\"twitter:creator\"/>\n",
      "  <meta content=\"https://competitions.ffr.fr/static_assets/Facebook.png\" name=\"twitter:image\"/>\n",
      "  <meta content=\"summary_large_image\" name=\"twitter:card\"/>\n",
      "  <meta content=\"https://competitions.ffr.fr/static_assets/Twitter.png\" name=\"twitter:image\"/>\n",
      "  <meta content=\"753881258133291\" property=\"fb:app_id\"/>\n",
      "  <meta content=\"201838479917171\" property=\"fb:pages\"/>\n",
      "  <meta content=\"fr_FR\" property=\"og:locale\"/>\n",
      "  <meta content=\"Compétitions - FFR\" property=\"og:site_name\"/>\n",
      "  <meta content=\"https://competitions.ffr.fr/static_assets/Facebook.png\" property=\"og:image\"/>\n",
      "  <meta content=\"1200\" property=\"og:image:width\"/>\n",
      "  <meta content=\"630\" property=\"og:image:height\"/>\n",
      "  <meta content=\"website\" property=\"og:type\"/>\n",
      "  <meta content=\"Compétitions - FFR\" property=\"og:site_name\"/>\n",
      "  <meta content=\"fr_FR\" property=\"og:locale\"/>\n",
      " </head>\n",
      " <body>\n",
      "  <noscript>\n",
      "   If you're seeing this message, that means\n",
      "   <strong>\n",
      "    JavaScript has been disabled on your browser\n",
      "   </strong>\n",
      "   , please\n",
      "   <strong>\n",
      "    enable JS\n",
      "   </strong>\n",
      "   to make this app work.\n",
      "  </noscript>\n",
      "  <div id=\"app\">\n",
      "  </div>\n",
      "  <div class=\"loader\" id=\"loader_initial\">\n",
      "   <img src=\"https://competitions.ffr.fr/static_assets/Loader_FFR.gif\"/>\n",
      "  </div>\n",
      "  <script crossorigin=\"anonymous\" src=\"https://cdn.ravenjs.com/3.26.2/raven.min.js\">\n",
      "  </script>\n",
      "  <script src=\"/main.1470e06acc38e3eaf509.js\" type=\"text/javascript\">\n",
      "  </script>\n",
      " </body>\n",
      "</html>\n",
      "\n",
      "Score non trouvé\n",
      "Aucune équipe trouvée\n",
      "Aucune action trouvée\n"
     ]
    }
   ],
   "source": [
    "import requests\n",
    "from bs4 import BeautifulSoup\n",
    "\n",
    "# Effectuer une requête GET à la page\n",
    "response = requests.get(url_match)\n",
    "\n",
    "# Vérifiez que la requête a réussi\n",
    "if response.status_code == 200:\n",
    "    print(\"Requête réussie!\")\n",
    "    \n",
    "    # Créez un objet BeautifulSoup\n",
    "    soup = BeautifulSoup(response.text, 'html.parser')\n",
    "    \n",
    "    # Afficher le contenu de la page pour débogage\n",
    "    print(\"Contenu de la page :\", soup.prettify())  # Pour voir la structure HTML\n",
    "\n",
    "    # Exemple d'extraction de données\n",
    "    # Trouver le score du match\n",
    "    score = soup.find(class_='score')\n",
    "    if score:\n",
    "        print(\"Score:\", score.text.strip())\n",
    "    else:\n",
    "        print(\"Score non trouvé\")\n",
    "\n",
    "    # Trouver les noms des équipes\n",
    "    teams = soup.find_all('div', class_='nameAndStatus')\n",
    "    if teams:\n",
    "        for team in teams:\n",
    "            name = team.find('a')\n",
    "            position = team.find('span', class_='poule-data')\n",
    "            if name and position:\n",
    "                print(f\"Équipe: {name.text.strip()}, Position: {position.text.strip()}\")\n",
    "            else:\n",
    "                print(\"Nom ou position d'équipe non trouvé\")\n",
    "    else:\n",
    "        print(\"Aucune équipe trouvée\")\n",
    "\n",
    "    # Trouver les essais et pénalités\n",
    "    actions = soup.find_all('div', class_='action-row')\n",
    "    if actions:\n",
    "        for action in actions:\n",
    "            action_name = action.find('p', class_='action-name')\n",
    "            player_name = action.find('p', class_='player-name')\n",
    "            minute = action.find('span', class_='minutes')\n",
    "\n",
    "            if action_name and player_name and minute:\n",
    "                print(f\"{action_name.text.strip()} par {player_name.text.strip()} à {minute.text.strip()}\")\n",
    "            else:\n",
    "                print(\"Action non trouvée\")\n",
    "    else:\n",
    "        print(\"Aucune action trouvée\")\n",
    "else:\n",
    "    print(\"Erreur lors de la récupération de la page\", response.status_code)\n"
   ]
  },
  {
   "cell_type": "code",
   "execution_count": 33,
   "metadata": {},
   "outputs": [
    {
     "ename": "WebDriverException",
     "evalue": "Message: unknown error: cannot find Chrome binary\nStacktrace:\n#0 0x560b122804e3 <unknown>\n#1 0x560b11fafc76 <unknown>\n#2 0x560b11fd6757 <unknown>\n#3 0x560b11fd5029 <unknown>\n#4 0x560b12013ccc <unknown>\n#5 0x560b1201347f <unknown>\n#6 0x560b1200ade3 <unknown>\n#7 0x560b11fe02dd <unknown>\n#8 0x560b11fe134e <unknown>\n#9 0x560b122403e4 <unknown>\n#10 0x560b122443d7 <unknown>\n#11 0x560b1224eb20 <unknown>\n#12 0x560b12245023 <unknown>\n#13 0x560b122131aa <unknown>\n#14 0x560b122696b8 <unknown>\n#15 0x560b12269847 <unknown>\n#16 0x560b12279243 <unknown>\n#17 0x7fc65d41e144 <unknown>\n",
     "output_type": "error",
     "traceback": [
      "\u001b[0;31m---------------------------------------------------------------------------\u001b[0m",
      "\u001b[0;31mWebDriverException\u001b[0m                        Traceback (most recent call last)",
      "Cell \u001b[0;32mIn[33], line 8\u001b[0m\n\u001b[1;32m      5\u001b[0m \u001b[38;5;28;01mimport\u001b[39;00m \u001b[38;5;21;01mtime\u001b[39;00m\n\u001b[1;32m      7\u001b[0m \u001b[38;5;66;03m# Configuration de Selenium avec ChromeDriver\u001b[39;00m\n\u001b[0;32m----> 8\u001b[0m driver \u001b[38;5;241m=\u001b[39m \u001b[43mwebdriver\u001b[49m\u001b[38;5;241;43m.\u001b[39;49m\u001b[43mChrome\u001b[49m\u001b[43m(\u001b[49m\u001b[43mservice\u001b[49m\u001b[38;5;241;43m=\u001b[39;49m\u001b[43mService\u001b[49m\u001b[43m(\u001b[49m\u001b[43mChromeDriverManager\u001b[49m\u001b[43m(\u001b[49m\u001b[43m)\u001b[49m\u001b[38;5;241;43m.\u001b[39;49m\u001b[43minstall\u001b[49m\u001b[43m(\u001b[49m\u001b[43m)\u001b[49m\u001b[43m)\u001b[49m\u001b[43m)\u001b[49m\n\u001b[1;32m     10\u001b[0m driver\u001b[38;5;241m.\u001b[39mget(url_match)\n\u001b[1;32m     12\u001b[0m \u001b[38;5;66;03m# Attendez que le JavaScript se charge\u001b[39;00m\n",
      "File \u001b[0;32m~/ffr/env_ffr/lib/python3.11/site-packages/selenium/webdriver/chrome/webdriver.py:45\u001b[0m, in \u001b[0;36mWebDriver.__init__\u001b[0;34m(self, options, service, keep_alive)\u001b[0m\n\u001b[1;32m     42\u001b[0m service \u001b[38;5;241m=\u001b[39m service \u001b[38;5;28;01mif\u001b[39;00m service \u001b[38;5;28;01melse\u001b[39;00m Service()\n\u001b[1;32m     43\u001b[0m options \u001b[38;5;241m=\u001b[39m options \u001b[38;5;28;01mif\u001b[39;00m options \u001b[38;5;28;01melse\u001b[39;00m Options()\n\u001b[0;32m---> 45\u001b[0m \u001b[38;5;28;43msuper\u001b[39;49m\u001b[43m(\u001b[49m\u001b[43m)\u001b[49m\u001b[38;5;241;43m.\u001b[39;49m\u001b[38;5;21;43m__init__\u001b[39;49m\u001b[43m(\u001b[49m\n\u001b[1;32m     46\u001b[0m \u001b[43m    \u001b[49m\u001b[43mbrowser_name\u001b[49m\u001b[38;5;241;43m=\u001b[39;49m\u001b[43mDesiredCapabilities\u001b[49m\u001b[38;5;241;43m.\u001b[39;49m\u001b[43mCHROME\u001b[49m\u001b[43m[\u001b[49m\u001b[38;5;124;43m\"\u001b[39;49m\u001b[38;5;124;43mbrowserName\u001b[39;49m\u001b[38;5;124;43m\"\u001b[39;49m\u001b[43m]\u001b[49m\u001b[43m,\u001b[49m\n\u001b[1;32m     47\u001b[0m \u001b[43m    \u001b[49m\u001b[43mvendor_prefix\u001b[49m\u001b[38;5;241;43m=\u001b[39;49m\u001b[38;5;124;43m\"\u001b[39;49m\u001b[38;5;124;43mgoog\u001b[39;49m\u001b[38;5;124;43m\"\u001b[39;49m\u001b[43m,\u001b[49m\n\u001b[1;32m     48\u001b[0m \u001b[43m    \u001b[49m\u001b[43moptions\u001b[49m\u001b[38;5;241;43m=\u001b[39;49m\u001b[43moptions\u001b[49m\u001b[43m,\u001b[49m\n\u001b[1;32m     49\u001b[0m \u001b[43m    \u001b[49m\u001b[43mservice\u001b[49m\u001b[38;5;241;43m=\u001b[39;49m\u001b[43mservice\u001b[49m\u001b[43m,\u001b[49m\n\u001b[1;32m     50\u001b[0m \u001b[43m    \u001b[49m\u001b[43mkeep_alive\u001b[49m\u001b[38;5;241;43m=\u001b[39;49m\u001b[43mkeep_alive\u001b[49m\u001b[43m,\u001b[49m\n\u001b[1;32m     51\u001b[0m \u001b[43m\u001b[49m\u001b[43m)\u001b[49m\n",
      "File \u001b[0;32m~/ffr/env_ffr/lib/python3.11/site-packages/selenium/webdriver/chromium/webdriver.py:66\u001b[0m, in \u001b[0;36mChromiumDriver.__init__\u001b[0;34m(self, browser_name, vendor_prefix, options, service, keep_alive)\u001b[0m\n\u001b[1;32m     57\u001b[0m executor \u001b[38;5;241m=\u001b[39m ChromiumRemoteConnection(\n\u001b[1;32m     58\u001b[0m     remote_server_addr\u001b[38;5;241m=\u001b[39m\u001b[38;5;28mself\u001b[39m\u001b[38;5;241m.\u001b[39mservice\u001b[38;5;241m.\u001b[39mservice_url,\n\u001b[1;32m     59\u001b[0m     browser_name\u001b[38;5;241m=\u001b[39mbrowser_name,\n\u001b[0;32m   (...)\u001b[0m\n\u001b[1;32m     62\u001b[0m     ignore_proxy\u001b[38;5;241m=\u001b[39moptions\u001b[38;5;241m.\u001b[39m_ignore_local_proxy,\n\u001b[1;32m     63\u001b[0m )\n\u001b[1;32m     65\u001b[0m \u001b[38;5;28;01mtry\u001b[39;00m:\n\u001b[0;32m---> 66\u001b[0m     \u001b[38;5;28;43msuper\u001b[39;49m\u001b[43m(\u001b[49m\u001b[43m)\u001b[49m\u001b[38;5;241;43m.\u001b[39;49m\u001b[38;5;21;43m__init__\u001b[39;49m\u001b[43m(\u001b[49m\u001b[43mcommand_executor\u001b[49m\u001b[38;5;241;43m=\u001b[39;49m\u001b[43mexecutor\u001b[49m\u001b[43m,\u001b[49m\u001b[43m \u001b[49m\u001b[43moptions\u001b[49m\u001b[38;5;241;43m=\u001b[39;49m\u001b[43moptions\u001b[49m\u001b[43m)\u001b[49m\n\u001b[1;32m     67\u001b[0m \u001b[38;5;28;01mexcept\u001b[39;00m \u001b[38;5;167;01mException\u001b[39;00m:\n\u001b[1;32m     68\u001b[0m     \u001b[38;5;28mself\u001b[39m\u001b[38;5;241m.\u001b[39mquit()\n",
      "File \u001b[0;32m~/ffr/env_ffr/lib/python3.11/site-packages/selenium/webdriver/remote/webdriver.py:212\u001b[0m, in \u001b[0;36mWebDriver.__init__\u001b[0;34m(self, command_executor, keep_alive, file_detector, options)\u001b[0m\n\u001b[1;32m    210\u001b[0m \u001b[38;5;28mself\u001b[39m\u001b[38;5;241m.\u001b[39m_authenticator_id \u001b[38;5;241m=\u001b[39m \u001b[38;5;28;01mNone\u001b[39;00m\n\u001b[1;32m    211\u001b[0m \u001b[38;5;28mself\u001b[39m\u001b[38;5;241m.\u001b[39mstart_client()\n\u001b[0;32m--> 212\u001b[0m \u001b[38;5;28;43mself\u001b[39;49m\u001b[38;5;241;43m.\u001b[39;49m\u001b[43mstart_session\u001b[49m\u001b[43m(\u001b[49m\u001b[43mcapabilities\u001b[49m\u001b[43m)\u001b[49m\n\u001b[1;32m    214\u001b[0m \u001b[38;5;28mself\u001b[39m\u001b[38;5;241m.\u001b[39m_websocket_connection \u001b[38;5;241m=\u001b[39m \u001b[38;5;28;01mNone\u001b[39;00m\n\u001b[1;32m    215\u001b[0m \u001b[38;5;28mself\u001b[39m\u001b[38;5;241m.\u001b[39m_script \u001b[38;5;241m=\u001b[39m \u001b[38;5;28;01mNone\u001b[39;00m\n",
      "File \u001b[0;32m~/ffr/env_ffr/lib/python3.11/site-packages/selenium/webdriver/remote/webdriver.py:299\u001b[0m, in \u001b[0;36mWebDriver.start_session\u001b[0;34m(self, capabilities)\u001b[0m\n\u001b[1;32m    292\u001b[0m \u001b[38;5;250m\u001b[39m\u001b[38;5;124;03m\"\"\"Creates a new session with the desired capabilities.\u001b[39;00m\n\u001b[1;32m    293\u001b[0m \n\u001b[1;32m    294\u001b[0m \u001b[38;5;124;03m:Args:\u001b[39;00m\n\u001b[1;32m    295\u001b[0m \u001b[38;5;124;03m - capabilities - a capabilities dict to start the session with.\u001b[39;00m\n\u001b[1;32m    296\u001b[0m \u001b[38;5;124;03m\"\"\"\u001b[39;00m\n\u001b[1;32m    298\u001b[0m caps \u001b[38;5;241m=\u001b[39m _create_caps(capabilities)\n\u001b[0;32m--> 299\u001b[0m response \u001b[38;5;241m=\u001b[39m \u001b[38;5;28;43mself\u001b[39;49m\u001b[38;5;241;43m.\u001b[39;49m\u001b[43mexecute\u001b[49m\u001b[43m(\u001b[49m\u001b[43mCommand\u001b[49m\u001b[38;5;241;43m.\u001b[39;49m\u001b[43mNEW_SESSION\u001b[49m\u001b[43m,\u001b[49m\u001b[43m \u001b[49m\u001b[43mcaps\u001b[49m\u001b[43m)\u001b[49m[\u001b[38;5;124m\"\u001b[39m\u001b[38;5;124mvalue\u001b[39m\u001b[38;5;124m\"\u001b[39m]\n\u001b[1;32m    300\u001b[0m \u001b[38;5;28mself\u001b[39m\u001b[38;5;241m.\u001b[39msession_id \u001b[38;5;241m=\u001b[39m response\u001b[38;5;241m.\u001b[39mget(\u001b[38;5;124m\"\u001b[39m\u001b[38;5;124msessionId\u001b[39m\u001b[38;5;124m\"\u001b[39m)\n\u001b[1;32m    301\u001b[0m \u001b[38;5;28mself\u001b[39m\u001b[38;5;241m.\u001b[39mcaps \u001b[38;5;241m=\u001b[39m response\u001b[38;5;241m.\u001b[39mget(\u001b[38;5;124m\"\u001b[39m\u001b[38;5;124mcapabilities\u001b[39m\u001b[38;5;124m\"\u001b[39m)\n",
      "File \u001b[0;32m~/ffr/env_ffr/lib/python3.11/site-packages/selenium/webdriver/remote/webdriver.py:354\u001b[0m, in \u001b[0;36mWebDriver.execute\u001b[0;34m(self, driver_command, params)\u001b[0m\n\u001b[1;32m    352\u001b[0m response \u001b[38;5;241m=\u001b[39m \u001b[38;5;28mself\u001b[39m\u001b[38;5;241m.\u001b[39mcommand_executor\u001b[38;5;241m.\u001b[39mexecute(driver_command, params)\n\u001b[1;32m    353\u001b[0m \u001b[38;5;28;01mif\u001b[39;00m response:\n\u001b[0;32m--> 354\u001b[0m     \u001b[38;5;28;43mself\u001b[39;49m\u001b[38;5;241;43m.\u001b[39;49m\u001b[43merror_handler\u001b[49m\u001b[38;5;241;43m.\u001b[39;49m\u001b[43mcheck_response\u001b[49m\u001b[43m(\u001b[49m\u001b[43mresponse\u001b[49m\u001b[43m)\u001b[49m\n\u001b[1;32m    355\u001b[0m     response[\u001b[38;5;124m\"\u001b[39m\u001b[38;5;124mvalue\u001b[39m\u001b[38;5;124m\"\u001b[39m] \u001b[38;5;241m=\u001b[39m \u001b[38;5;28mself\u001b[39m\u001b[38;5;241m.\u001b[39m_unwrap_value(response\u001b[38;5;241m.\u001b[39mget(\u001b[38;5;124m\"\u001b[39m\u001b[38;5;124mvalue\u001b[39m\u001b[38;5;124m\"\u001b[39m, \u001b[38;5;28;01mNone\u001b[39;00m))\n\u001b[1;32m    356\u001b[0m     \u001b[38;5;28;01mreturn\u001b[39;00m response\n",
      "File \u001b[0;32m~/ffr/env_ffr/lib/python3.11/site-packages/selenium/webdriver/remote/errorhandler.py:229\u001b[0m, in \u001b[0;36mErrorHandler.check_response\u001b[0;34m(self, response)\u001b[0m\n\u001b[1;32m    227\u001b[0m         alert_text \u001b[38;5;241m=\u001b[39m value[\u001b[38;5;124m\"\u001b[39m\u001b[38;5;124malert\u001b[39m\u001b[38;5;124m\"\u001b[39m]\u001b[38;5;241m.\u001b[39mget(\u001b[38;5;124m\"\u001b[39m\u001b[38;5;124mtext\u001b[39m\u001b[38;5;124m\"\u001b[39m)\n\u001b[1;32m    228\u001b[0m     \u001b[38;5;28;01mraise\u001b[39;00m exception_class(message, screen, stacktrace, alert_text)  \u001b[38;5;66;03m# type: ignore[call-arg]  # mypy is not smart enough here\u001b[39;00m\n\u001b[0;32m--> 229\u001b[0m \u001b[38;5;28;01mraise\u001b[39;00m exception_class(message, screen, stacktrace)\n",
      "\u001b[0;31mWebDriverException\u001b[0m: Message: unknown error: cannot find Chrome binary\nStacktrace:\n#0 0x560b122804e3 <unknown>\n#1 0x560b11fafc76 <unknown>\n#2 0x560b11fd6757 <unknown>\n#3 0x560b11fd5029 <unknown>\n#4 0x560b12013ccc <unknown>\n#5 0x560b1201347f <unknown>\n#6 0x560b1200ade3 <unknown>\n#7 0x560b11fe02dd <unknown>\n#8 0x560b11fe134e <unknown>\n#9 0x560b122403e4 <unknown>\n#10 0x560b122443d7 <unknown>\n#11 0x560b1224eb20 <unknown>\n#12 0x560b12245023 <unknown>\n#13 0x560b122131aa <unknown>\n#14 0x560b122696b8 <unknown>\n#15 0x560b12269847 <unknown>\n#16 0x560b12279243 <unknown>\n#17 0x7fc65d41e144 <unknown>\n"
     ]
    }
   ],
   "source": [
    "from selenium import webdriver\n",
    "from selenium.webdriver.chrome.service import Service\n",
    "from webdriver_manager.chrome import ChromeDriverManager\n",
    "from selenium.webdriver.common.by import By\n",
    "import time\n",
    "\n",
    "# Configuration de Selenium avec ChromeDriver\n",
    "driver = webdriver.Chrome(service=Service(ChromeDriverManager().install()))\n",
    "\n",
    "driver.get(url_match)\n",
    "\n",
    "# Attendez que le JavaScript se charge\n",
    "time.sleep(5)  # Ajustez ce temps selon vos besoins\n",
    "\n",
    "# Extraire le contenu après que la page ait été complètement chargée\n",
    "try:\n",
    "    score = driver.find_element(By.CLASS_NAME, 'score')\n",
    "    print(\"Score:\", score.text.strip())\n",
    "except Exception as e:\n",
    "    print(\"Score non trouvé\", e)\n",
    "\n",
    "try:\n",
    "    teams = driver.find_elements(By.CLASS_NAME, 'nameAndStatus')\n",
    "    for team in teams:\n",
    "        name = team.find_element(By.TAG_NAME, 'a')\n",
    "        position = team.find_element(By.CLASS_NAME, 'poule-data')\n",
    "        print(f\"Équipe: {name.text.strip()}, Position: {position.text.strip()}\")\n",
    "except Exception as e:\n",
    "    print(\"Aucune équipe trouvée\", e)\n",
    "\n",
    "try:\n",
    "    actions = driver.find_elements(By.CLASS_NAME, 'action-row')\n",
    "    for action in actions:\n",
    "        action_name = action.find_element(By.CLASS_NAME, 'action-name')\n",
    "        player_name = action.find_element(By.CLASS_NAME, 'player-name')\n",
    "        minute = action.find_element(By.CLASS_NAME, 'minutes')\n",
    "        print(f\"{action_name.text.strip()} par {player_name.text.strip()} à {minute.text.strip()}\")\n",
    "except Exception as e:\n",
    "    print(\"Aucune action trouvée\", e)\n",
    "\n",
    "# Fermez le navigateur\n",
    "driver.quit()\n"
   ]
  },
  {
   "cell_type": "code",
   "execution_count": null,
   "metadata": {},
   "outputs": [],
   "source": []
  }
 ],
 "metadata": {
  "kernelspec": {
   "display_name": "env_ffr",
   "language": "python",
   "name": "python3"
  },
  "language_info": {
   "codemirror_mode": {
    "name": "ipython",
    "version": 3
   },
   "file_extension": ".py",
   "mimetype": "text/x-python",
   "name": "python",
   "nbconvert_exporter": "python",
   "pygments_lexer": "ipython3",
   "version": "3.11.2"
  }
 },
 "nbformat": 4,
 "nbformat_minor": 2
}
